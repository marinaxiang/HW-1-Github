{
 "cells": [
  {
   "cell_type": "code",
   "execution_count": 335,
   "id": "6b12fdb2",
   "metadata": {},
   "outputs": [],
   "source": [
    "import time\n",
    "import pandas as pd\n",
    "import numpy as np\n",
    "from bs4 import BeautifulSoup\n",
    "from selenium import webdriver\n",
    "from selenium.webdriver.chrome.service import Service\n",
    "from selenium.common.exceptions import NoSuchElementException\n",
    "from selenium.webdriver.common.by import By"
   ]
  },
  {
   "cell_type": "code",
   "execution_count": 336,
   "id": "8b922967",
   "metadata": {},
   "outputs": [],
   "source": [
    "path = \"C:/Users/lenovo/Desktop/chromedriver.exe\"\n",
    "s=Service(path)\n",
    "browser = webdriver.Chrome(service=s)"
   ]
  },
  {
   "cell_type": "code",
   "execution_count": 360,
   "id": "44a8b135",
   "metadata": {},
   "outputs": [],
   "source": [
    "def check_print_text(re,tagname,attribute):\n",
    "    a = re.find(tagname , class_=attribute)\n",
    "    if a:\n",
    "        b=a.text.strip().replace('\\xa0',' ')\n",
    "        if b!='':\n",
    "            return (b)\n",
    "        else:\n",
    "            return ('NA')\n",
    "    else:\n",
    "        return('NA')"
   ]
  },
  {
   "cell_type": "code",
   "execution_count": 357,
   "id": "2bf27541",
   "metadata": {},
   "outputs": [],
   "source": [
    "def check_exists_by_xpath(xpath):\n",
    "    try:\n",
    "        browser.find_element(By.XPATH,xpath)\n",
    "    except NoSuchElementException:\n",
    "        return False\n",
    "    return True"
   ]
  },
  {
   "cell_type": "code",
   "execution_count": 361,
   "id": "0e6d5ff6",
   "metadata": {
    "scrolled": true
   },
   "outputs": [
    {
     "data": {
      "text/plain": [
       "85"
      ]
     },
     "execution_count": 361,
     "metadata": {},
     "output_type": "execute_result"
    }
   ],
   "source": [
    "###all shop collection\n",
    "homepage=\"https://www.yelp.com/search?find_desc=bubble+tea&find_loc=New+York%2C+NY&sortby=review_count&cflt=bubbletea\"\n",
    "browser.get(homepage)\n",
    "time.sleep(4)\n",
    "\n",
    "Link=[]\n",
    "\n",
    "for n in range (0,100):\n",
    "    page_source = browser.page_source\n",
    "    soup = BeautifulSoup(page_source,'lxml')\n",
    "    bubble_shop = soup.find_all('div',class_='container__09f24__mpR8_ hoverable__09f24__wQ_on border-color--default__09f24__NPAKY')\n",
    "#1page has 10 shop#\n",
    "    for i in range (2,len(bubble_shop)): \n",
    "        rating = check_print_text(bubble_shop[i],'span','css-chan6m')\n",
    "        rating_num = float(rating)\n",
    "        if rating_num >= 100:\n",
    "            name =  bubble_shop[i].find('a',class_='css-1m051bw')\n",
    "            html = name.get('href')\n",
    "            Link.append('https://www.yelp.com/'+html)\n",
    "    if (check_exists_by_xpath('//*[@class=\"next-link navigation-button__09f24__m9qRz css-144i0wq\"]')):\n",
    "        browser.find_element(By.XPATH,'//*[@class=\"next-link navigation-button__09f24__m9qRz css-144i0wq\"]').click()\n",
    "        time.sleep(2)\n",
    "    else:\n",
    "        break\n",
    "len(Link)\n"
   ]
  },
  {
   "cell_type": "code",
   "execution_count": 362,
   "id": "3e3050fc",
   "metadata": {},
   "outputs": [
    {
     "data": {
      "text/plain": [
       "85"
      ]
     },
     "execution_count": 362,
     "metadata": {},
     "output_type": "execute_result"
    }
   ],
   "source": [
    "len(Link)"
   ]
  },
  {
   "cell_type": "code",
   "execution_count": 363,
   "id": "3546f74c",
   "metadata": {},
   "outputs": [],
   "source": [
    "def check_print_rating(re):\n",
    "    global rating  \n",
    "    a = re.find('div',class_='five-stars__09f24__mBKym five-stars--regular__09f24__DgBNj display--inline-block__09f24__fEDiJ border-color--default__09f24__NPAKY')\n",
    "    if a :\n",
    "        b=a['aria-label'][0]\n",
    "        return (b)\n",
    "    else:\n",
    "        return ('NA')"
   ]
  },
  {
   "cell_type": "code",
   "execution_count": 364,
   "id": "46359cb0",
   "metadata": {},
   "outputs": [],
   "source": [
    "def state_get(re):       \n",
    "    a = re.find('span',class_='css-qgunke')\n",
    "    if a: \n",
    "        b=a.text.strip().replace('\\xa0',' ')\n",
    "        return (b[-2:])\n",
    "    else:\n",
    "        return ('NA')\n",
    "        \n",
    "def city_get(re):\n",
    "    a = re.find('span',class_='css-qgunke')\n",
    "    if a: \n",
    "        b=a.text.strip().replace('\\xa0',' ')\n",
    "        return (b[:-4])\n",
    "    else:\n",
    "        return ('NA')"
   ]
  },
  {
   "cell_type": "code",
   "execution_count": null,
   "id": "0c55cd85",
   "metadata": {},
   "outputs": [],
   "source": [
    "\n",
    "data1=[]\n",
    "\n",
    "for links in range (0,76):\n",
    "    \n",
    "    shoppage=Link[links]\n",
    "    browser.get(shoppage)\n",
    "    time.sleep(2)\n",
    "    browser.find_element(By.XPATH,'//*[@class=\"filterToggle__09f24__XF_eF leftRounded__09f24__BRQUT rightRounded__09f24__JljAv  css-1fygppl\"]').click()\n",
    "\n",
    "    browser.find_element(By.XPATH,'//*[@id=\"reviews\"]/section/div[2]/div/div[4]/div/div[1]/div/div[1]/div/span/div/menu/div/div[2]/button').click()\n",
    "  \n",
    "    \n",
    "    for i in range(0,15):   \n",
    "\n",
    "       # js=\"var q=document.documentElement.scrollTop=100\"\n",
    "       # browser.execute_script(js)\n",
    "        #time.sleep(1)\n",
    "        \n",
    "        page_source = browser.page_source\n",
    "        soup = BeautifulSoup(page_source, 'lxml')\n",
    "        reviews_content = soup.find_all('div', class_='review__09f24__oHr9V border-color--default__09f24__NPAKY')\n",
    "            \n",
    "            \n",
    "        for re in reviews_content:\n",
    "            name=check_print_text(re,'a','css-1m051bw')\n",
    "            rating=check_print_rating(re)\n",
    "            state=state_get(re)\n",
    "            city = city_get(re)\n",
    "            text=check_print_text(re,'span','raw__09f24__T4Ezm')\n",
    "            date=check_print_text(re,'span','css-chan6m')\n",
    "            \n",
    "            data.append([name,rating,state,city,text,date]) \n",
    "            \n",
    "        if (check_exists_by_xpath('//*[@class=\"next-link navigation-button__09f24__m9qRz css-144i0wq\"]')):\n",
    "            browser.find_element(By.XPATH,'//*[@id=\"reviews\"]/section/div[2]/div/div[5]/div[1]/div/div[11]').click()\n",
    "            time.sleep(1)\n",
    "        else:\n",
    "            break"
   ]
  },
  {
   "cell_type": "code",
   "execution_count": 370,
   "id": "c863747b",
   "metadata": {
    "scrolled": true
   },
   "outputs": [],
   "source": [
    "###Get infomation from the reviews\n",
    "\n",
    "data2=[]\n",
    "\n",
    "for links in range (76,len(Link)):\n",
    "    \n",
    "    shoppage=Link[links]\n",
    "    browser.get(shoppage)\n",
    "    time.sleep(2)\n",
    "    browser.find_element(By.XPATH,'//*[@class=\"filterToggle__09f24__XF_eF leftRounded__09f24__BRQUT rightRounded__09f24__JljAv  css-1fygppl\"]').click()\n",
    "\n",
    "    browser.find_element(By.XPATH,'//*[@id=\"reviews\"]/section/div[2]/div/div[4]/div/div[1]/div/div[1]/div/span/div/menu/div/div[2]/button').click()\n",
    "  \n",
    "    \n",
    "    for i in range(0,15):   \n",
    "\n",
    "       # js=\"var q=document.documentElement.scrollTop=100\"\n",
    "       # browser.execute_script(js)\n",
    "        #time.sleep(1)\n",
    "        \n",
    "        page_source = browser.page_source\n",
    "        soup = BeautifulSoup(page_source, 'lxml')\n",
    "        reviews_content = soup.find_all('div', class_='review__09f24__oHr9V border-color--default__09f24__NPAKY')\n",
    "            \n",
    "            \n",
    "        for re in reviews_content:\n",
    "            name=check_print_text(re,'a','css-1m051bw')\n",
    "            rating=check_print_rating(re)\n",
    "            state=state_get(re)\n",
    "            city = city_get(re)\n",
    "            text=check_print_text(re,'span','raw__09f24__T4Ezm')\n",
    "            date=check_print_text(re,'span','css-chan6m')\n",
    "            \n",
    "            data.append([name,rating,state,city,text,date]) \n",
    "            \n",
    "        if (check_exists_by_xpath('//*[@class=\"next-link navigation-button__09f24__m9qRz css-144i0wq\"]')):\n",
    "            browser.find_element(By.XPATH,'//*[@id=\"reviews\"]/section/div[2]/div/div[5]/div[1]/div/div[11]').click()\n",
    "            time.sleep(1)\n",
    "        else:\n",
    "            break\n",
    "     "
   ]
  },
  {
   "cell_type": "code",
   "execution_count": 372,
   "id": "32d3e86f",
   "metadata": {},
   "outputs": [],
   "source": [
    "data = data1+data2"
   ]
  },
  {
   "cell_type": "code",
   "execution_count": 373,
   "id": "4b7faaf3",
   "metadata": {},
   "outputs": [],
   "source": [
    "data_list = []\n",
    "\n",
    "for i in range (0,len(data)):\n",
    "    \n",
    "    customer_name = data[i][0]\n",
    "    rating = data[i][1]\n",
    "    state = data[i][2]\n",
    "    city = data[i][3]\n",
    "    text = data[i][4]\n",
    "    date = data[i][5]\n",
    "    \n",
    "    data_list.append({'customer_name':customer_name,\n",
    "                       'rating':rating,\n",
    "                       'state':state,\n",
    "                      'city': city,\n",
    "                       'text':text,\n",
    "                       'date':date,\n",
    "                       })    \n",
    "    \n",
    "df = pd.DataFrame(data_list, columns = ['customer_name',                                        \n",
    "                                        'rating',\n",
    "                                        'state',\n",
    "                                        'city',\n",
    "                                        'text',\n",
    "                                        'date'])"
   ]
  },
  {
   "cell_type": "code",
   "execution_count": 374,
   "id": "993d7232",
   "metadata": {},
   "outputs": [
    {
     "data": {
      "text/plain": [
       "11845"
      ]
     },
     "execution_count": 374,
     "metadata": {},
     "output_type": "execute_result"
    }
   ],
   "source": [
    "len(df)"
   ]
  },
  {
   "cell_type": "code",
   "execution_count": 375,
   "id": "f3175284",
   "metadata": {
    "scrolled": true
   },
   "outputs": [
    {
     "data": {
      "text/html": [
       "<div>\n",
       "<style scoped>\n",
       "    .dataframe tbody tr th:only-of-type {\n",
       "        vertical-align: middle;\n",
       "    }\n",
       "\n",
       "    .dataframe tbody tr th {\n",
       "        vertical-align: top;\n",
       "    }\n",
       "\n",
       "    .dataframe thead th {\n",
       "        text-align: right;\n",
       "    }\n",
       "</style>\n",
       "<table border=\"1\" class=\"dataframe\">\n",
       "  <thead>\n",
       "    <tr style=\"text-align: right;\">\n",
       "      <th></th>\n",
       "      <th>customer_name</th>\n",
       "      <th>rating</th>\n",
       "      <th>state</th>\n",
       "      <th>city</th>\n",
       "      <th>text</th>\n",
       "      <th>date</th>\n",
       "    </tr>\n",
       "  </thead>\n",
       "  <tbody>\n",
       "    <tr>\n",
       "      <th>0</th>\n",
       "      <td>Megan L.</td>\n",
       "      <td>5</td>\n",
       "      <td>MD</td>\n",
       "      <td>Maryland City</td>\n",
       "      <td>Best Boba I've ever had! Having the warm fresh...</td>\n",
       "      <td>12/7/2022</td>\n",
       "    </tr>\n",
       "    <tr>\n",
       "      <th>1</th>\n",
       "      <td>Justine J.</td>\n",
       "      <td>2</td>\n",
       "      <td>PA</td>\n",
       "      <td>Philadelphia</td>\n",
       "      <td>First and foremost, do not get the rose tea. I...</td>\n",
       "      <td>12/19/2022</td>\n",
       "    </tr>\n",
       "    <tr>\n",
       "      <th>2</th>\n",
       "      <td>J P.</td>\n",
       "      <td>3</td>\n",
       "      <td>CA</td>\n",
       "      <td>Midtown, Sacramento</td>\n",
       "      <td>I've ordered the Damacas Rose Tea and it wasn'...</td>\n",
       "      <td>12/9/2022</td>\n",
       "    </tr>\n",
       "    <tr>\n",
       "      <th>3</th>\n",
       "      <td>Jeff K.</td>\n",
       "      <td>4</td>\n",
       "      <td>NJ</td>\n",
       "      <td>Bergen County</td>\n",
       "      <td>Probably one of my favorite bubble tea stores ...</td>\n",
       "      <td>11/29/2022</td>\n",
       "    </tr>\n",
       "    <tr>\n",
       "      <th>4</th>\n",
       "      <td>Laila Y.</td>\n",
       "      <td>4</td>\n",
       "      <td>VA</td>\n",
       "      <td>VA</td>\n",
       "      <td>Came to visit this place as a part of our trip...</td>\n",
       "      <td>12/16/2022</td>\n",
       "    </tr>\n",
       "  </tbody>\n",
       "</table>\n",
       "</div>"
      ],
      "text/plain": [
       "  customer_name rating state                 city  \\\n",
       "0      Megan L.      5    MD        Maryland City   \n",
       "1    Justine J.      2    PA         Philadelphia   \n",
       "2          J P.      3    CA  Midtown, Sacramento   \n",
       "3       Jeff K.      4    NJ        Bergen County   \n",
       "4      Laila Y.      4    VA                   VA   \n",
       "\n",
       "                                                text        date  \n",
       "0  Best Boba I've ever had! Having the warm fresh...   12/7/2022  \n",
       "1  First and foremost, do not get the rose tea. I...  12/19/2022  \n",
       "2  I've ordered the Damacas Rose Tea and it wasn'...   12/9/2022  \n",
       "3  Probably one of my favorite bubble tea stores ...  11/29/2022  \n",
       "4  Came to visit this place as a part of our trip...  12/16/2022  "
      ]
     },
     "execution_count": 375,
     "metadata": {},
     "output_type": "execute_result"
    }
   ],
   "source": [
    "df.head()"
   ]
  },
  {
   "cell_type": "code",
   "execution_count": 377,
   "id": "a8b08e33",
   "metadata": {
    "scrolled": true
   },
   "outputs": [],
   "source": [
    "df.to_csv(r'C:\\Users\\Lenovo\\Desktop\\final_data.csv', header=True)"
   ]
  }
 ],
 "metadata": {
  "kernelspec": {
   "display_name": "Python 3",
   "language": "python",
   "name": "python3"
  },
  "language_info": {
   "codemirror_mode": {
    "name": "ipython",
    "version": 3
   },
   "file_extension": ".py",
   "mimetype": "text/x-python",
   "name": "python",
   "nbconvert_exporter": "python",
   "pygments_lexer": "ipython3",
   "version": "3.8.8"
  }
 },
 "nbformat": 4,
 "nbformat_minor": 5
}
